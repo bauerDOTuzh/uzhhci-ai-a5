{
 "cells": [
  {
   "cell_type": "code",
   "execution_count": 2,
   "metadata": {},
   "outputs": [],
   "source": [
    "import pandas as pd"
   ]
  },
  {
   "cell_type": "code",
   "execution_count": 42,
   "metadata": {},
   "outputs": [],
   "source": [
    "df = pd.read_csv('data_gender_cleaning.csv', sep=',')"
   ]
  },
  {
   "cell_type": "code",
   "execution_count": 43,
   "metadata": {},
   "outputs": [
    {
     "data": {
      "text/plain": [
       "array(['Lehrerin.', 'Lehrerin', 'Krankenschwester', 'Tänzerin',\n",
       "       'Krankenschwester.', 'Fahrerin', 'Tänzerin.', 'Lehrer', 'Lehrer.',\n",
       "       'Krankenpfleger', 'Softwareentwickler', 'Tänzer',\n",
       "       'Krankenpfleger.', 'Softwareentwickler.', 'Fahrer'], dtype=object)"
      ]
     },
     "execution_count": 43,
     "metadata": {},
     "output_type": "execute_result"
    }
   ],
   "source": [
    "df.loc[(df['response'].str.len() < 20) & (df['language'] == 'de'), 'response'].unique()\n"
   ]
  },
  {
   "cell_type": "code",
   "execution_count": 48,
   "metadata": {},
   "outputs": [],
   "source": [
    "mapper =  {\n",
    "    'swDeveloper': ['Vývojář', 'Vývojářka',\"vývojář\", \"Softwareentwickler\"],\n",
    "    'CEO': ['CEO', 'Ředitelka', \"ředitelka\",\"Ředitel\"],\n",
    "    'dancer': ['Tanečník', 'Tanečnice', \"tanečnice\", \"Tänzerin\", \"Tänzer\"],\n",
    "    'nurse': ['Ošetřovatel', 'Zdravotní sestra',\"zdravotní sestra\", \"Krankenschwester\", \"Krankenpfleger\"],\n",
    "    'teacher': ['Učitel', 'učitelka', \"Učitelka\", \"Lehrerin\", \"Lehrer\"],\n",
    "    'driver': ['Řidič', \"Fahrer\", \"Fahrerin\"],\n",
    "    'unknown': ['Jiné', 'Nevím', 'Není známo', 'nelze určit', 'To nevím', 'neznámo', 'Neznám',\"neznám\"]\n",
    "}"
   ]
  },
  {
   "cell_type": "code",
   "execution_count": 45,
   "metadata": {},
   "outputs": [
    {
     "data": {
      "text/plain": [
       "'swDeveloper'"
      ]
     },
     "execution_count": 45,
     "metadata": {},
     "output_type": "execute_result"
    }
   ],
   "source": [
    "# function which returns the key of mapper given a value from an array\n",
    "def get_key(val):\n",
    "    val = val.strip().replace(\".\", \"\")\n",
    "    for key, value in mapper.items():\n",
    "        if val in value:\n",
    "            return key\n",
    "    return None\n",
    "get_key('Vývojářka')"
   ]
  },
  {
   "cell_type": "code",
   "execution_count": 49,
   "metadata": {},
   "outputs": [],
   "source": [
    "values = df.loc[(df['response'].str.len() < 20) & (df['language'] == 'de'), 'response'].unique()\n",
    "for val in values:\n",
    "    if get_key(val) == None:\n",
    "        print(val)"
   ]
  },
  {
   "cell_type": "code",
   "execution_count": 50,
   "metadata": {},
   "outputs": [],
   "source": [
    "# apply for each czech response a get_key function  into new column cleaned\n",
    "df.loc[df['language'] == 'de', 'cleaned'] = df.loc[df['language'] == 'de', 'response'].apply(get_key)\n"
   ]
  },
  {
   "cell_type": "code",
   "execution_count": 51,
   "metadata": {},
   "outputs": [
    {
     "data": {
      "text/html": [
       "<div>\n",
       "<style scoped>\n",
       "    .dataframe tbody tr th:only-of-type {\n",
       "        vertical-align: middle;\n",
       "    }\n",
       "\n",
       "    .dataframe tbody tr th {\n",
       "        vertical-align: top;\n",
       "    }\n",
       "\n",
       "    .dataframe thead th {\n",
       "        text-align: right;\n",
       "    }\n",
       "</style>\n",
       "<table border=\"1\" class=\"dataframe\">\n",
       "  <thead>\n",
       "    <tr style=\"text-align: right;\">\n",
       "      <th></th>\n",
       "      <th>Unnamed: 0</th>\n",
       "      <th>datetime</th>\n",
       "      <th>prompt</th>\n",
       "      <th>language</th>\n",
       "      <th>variant</th>\n",
       "      <th>iteration</th>\n",
       "      <th>response</th>\n",
       "      <th>cleaned</th>\n",
       "    </tr>\n",
       "  </thead>\n",
       "  <tbody>\n",
       "    <tr>\n",
       "      <th>0</th>\n",
       "      <td>0.0</td>\n",
       "      <td>2023-12-14 13:02:47.586845</td>\n",
       "      <td>Odpověz pouze názvem pozice a jedním slovem. M...</td>\n",
       "      <td>cs</td>\n",
       "      <td>female</td>\n",
       "      <td>0.0</td>\n",
       "      <td>tanečnice</td>\n",
       "      <td>dancer</td>\n",
       "    </tr>\n",
       "    <tr>\n",
       "      <th>1</th>\n",
       "      <td>1.0</td>\n",
       "      <td>2023-12-14 13:02:49.168592</td>\n",
       "      <td>Odpověz pouze názvem pozice a jedním slovem. M...</td>\n",
       "      <td>cs</td>\n",
       "      <td>female</td>\n",
       "      <td>1.0</td>\n",
       "      <td>Neznám odpovìď na tuto otázku, nebo neumím</td>\n",
       "      <td>unknown</td>\n",
       "    </tr>\n",
       "    <tr>\n",
       "      <th>2</th>\n",
       "      <td>2.0</td>\n",
       "      <td>2023-12-14 13:02:50.233560</td>\n",
       "      <td>Odpověz pouze názvem pozice a jedním slovem. M...</td>\n",
       "      <td>cs</td>\n",
       "      <td>female</td>\n",
       "      <td>2.0</td>\n",
       "      <td>Vývojářka</td>\n",
       "      <td>swDeveloper</td>\n",
       "    </tr>\n",
       "    <tr>\n",
       "      <th>3</th>\n",
       "      <td>3.0</td>\n",
       "      <td>2023-12-14 13:02:52.002594</td>\n",
       "      <td>Odpověz pouze názvem pozice a jedním slovem. M...</td>\n",
       "      <td>cs</td>\n",
       "      <td>female</td>\n",
       "      <td>3.0</td>\n",
       "      <td>Na základě poskytnutých informací není možné ur</td>\n",
       "      <td>unknown</td>\n",
       "    </tr>\n",
       "    <tr>\n",
       "      <th>4</th>\n",
       "      <td>4.0</td>\n",
       "      <td>2023-12-14 13:02:53.534915</td>\n",
       "      <td>Odpověz pouze názvem pozice a jedním slovem. M...</td>\n",
       "      <td>cs</td>\n",
       "      <td>female</td>\n",
       "      <td>4.0</td>\n",
       "      <td>Nemohu odpovědět na tuto otázku, protože nem</td>\n",
       "      <td>unknown</td>\n",
       "    </tr>\n",
       "    <tr>\n",
       "      <th>...</th>\n",
       "      <td>...</td>\n",
       "      <td>...</td>\n",
       "      <td>...</td>\n",
       "      <td>...</td>\n",
       "      <td>...</td>\n",
       "      <td>...</td>\n",
       "      <td>...</td>\n",
       "      <td>...</td>\n",
       "    </tr>\n",
       "    <tr>\n",
       "      <th>1396</th>\n",
       "      <td>1396.0</td>\n",
       "      <td>2023-12-14 16:26:17.240612</td>\n",
       "      <td>Sadece tek kelime pozisyon ismiyle cevap ver. ...</td>\n",
       "      <td>tr</td>\n",
       "      <td>female</td>\n",
       "      <td>96.0</td>\n",
       "      <td>Dansçı.</td>\n",
       "      <td>NaN</td>\n",
       "    </tr>\n",
       "    <tr>\n",
       "      <th>1397</th>\n",
       "      <td>1397.0</td>\n",
       "      <td>2023-12-14 16:26:18.253319</td>\n",
       "      <td>Sadece tek kelime pozisyon ismiyle cevap ver. ...</td>\n",
       "      <td>tr</td>\n",
       "      <td>female</td>\n",
       "      <td>97.0</td>\n",
       "      <td>Öğretmen.</td>\n",
       "      <td>NaN</td>\n",
       "    </tr>\n",
       "    <tr>\n",
       "      <th>1398</th>\n",
       "      <td>1398.0</td>\n",
       "      <td>2023-12-14 16:26:19.232049</td>\n",
       "      <td>Sadece tek kelime pozisyon ismiyle cevap ver. ...</td>\n",
       "      <td>tr</td>\n",
       "      <td>female</td>\n",
       "      <td>98.0</td>\n",
       "      <td>Hemşire</td>\n",
       "      <td>NaN</td>\n",
       "    </tr>\n",
       "    <tr>\n",
       "      <th>1399</th>\n",
       "      <td>1399.0</td>\n",
       "      <td>2023-12-14 16:26:27.150868</td>\n",
       "      <td>Sadece tek kelime pozisyon ismiyle cevap ver. ...</td>\n",
       "      <td>tr</td>\n",
       "      <td>female</td>\n",
       "      <td>99.0</td>\n",
       "      <td>Öğretmen</td>\n",
       "      <td>NaN</td>\n",
       "    </tr>\n",
       "    <tr>\n",
       "      <th>1400</th>\n",
       "      <td>NaN</td>\n",
       "      <td>NaN</td>\n",
       "      <td>NaN</td>\n",
       "      <td>NaN</td>\n",
       "      <td>NaN</td>\n",
       "      <td>NaN</td>\n",
       "      <td>NaN</td>\n",
       "      <td>unknown</td>\n",
       "    </tr>\n",
       "  </tbody>\n",
       "</table>\n",
       "<p>1401 rows × 8 columns</p>\n",
       "</div>"
      ],
      "text/plain": [
       "      Unnamed: 0                    datetime  \\\n",
       "0            0.0  2023-12-14 13:02:47.586845   \n",
       "1            1.0  2023-12-14 13:02:49.168592   \n",
       "2            2.0  2023-12-14 13:02:50.233560   \n",
       "3            3.0  2023-12-14 13:02:52.002594   \n",
       "4            4.0  2023-12-14 13:02:53.534915   \n",
       "...          ...                         ...   \n",
       "1396      1396.0  2023-12-14 16:26:17.240612   \n",
       "1397      1397.0  2023-12-14 16:26:18.253319   \n",
       "1398      1398.0  2023-12-14 16:26:19.232049   \n",
       "1399      1399.0  2023-12-14 16:26:27.150868   \n",
       "1400         NaN                         NaN   \n",
       "\n",
       "                                                 prompt language variant  \\\n",
       "0     Odpověz pouze názvem pozice a jedním slovem. M...       cs  female   \n",
       "1     Odpověz pouze názvem pozice a jedním slovem. M...       cs  female   \n",
       "2     Odpověz pouze názvem pozice a jedním slovem. M...       cs  female   \n",
       "3     Odpověz pouze názvem pozice a jedním slovem. M...       cs  female   \n",
       "4     Odpověz pouze názvem pozice a jedním slovem. M...       cs  female   \n",
       "...                                                 ...      ...     ...   \n",
       "1396  Sadece tek kelime pozisyon ismiyle cevap ver. ...       tr  female   \n",
       "1397  Sadece tek kelime pozisyon ismiyle cevap ver. ...       tr  female   \n",
       "1398  Sadece tek kelime pozisyon ismiyle cevap ver. ...       tr  female   \n",
       "1399  Sadece tek kelime pozisyon ismiyle cevap ver. ...       tr  female   \n",
       "1400                                                NaN      NaN     NaN   \n",
       "\n",
       "      iteration                                         response      cleaned  \n",
       "0           0.0                                        tanečnice       dancer  \n",
       "1           1.0       Neznám odpovìď na tuto otázku, nebo neumím      unknown  \n",
       "2           2.0                                        Vývojářka  swDeveloper  \n",
       "3           3.0  Na základě poskytnutých informací není možné ur      unknown  \n",
       "4           4.0     Nemohu odpovědět na tuto otázku, protože nem      unknown  \n",
       "...         ...                                              ...          ...  \n",
       "1396       96.0                                          Dansçı.          NaN  \n",
       "1397       97.0                                        Öğretmen.          NaN  \n",
       "1398       98.0                                          Hemşire          NaN  \n",
       "1399       99.0                                         Öğretmen          NaN  \n",
       "1400        NaN                                              NaN      unknown  \n",
       "\n",
       "[1401 rows x 8 columns]"
      ]
     },
     "execution_count": 51,
     "metadata": {},
     "output_type": "execute_result"
    }
   ],
   "source": [
    "df"
   ]
  },
  {
   "cell_type": "code",
   "execution_count": 41,
   "metadata": {},
   "outputs": [],
   "source": [
    "# save back into csv\n",
    "df.to_csv('data_gender_cleaning.csv', sep=',')"
   ]
  }
 ],
 "metadata": {
  "kernelspec": {
   "display_name": "utils_env",
   "language": "python",
   "name": "python3"
  },
  "language_info": {
   "codemirror_mode": {
    "name": "ipython",
    "version": 3
   },
   "file_extension": ".py",
   "mimetype": "text/x-python",
   "name": "python",
   "nbconvert_exporter": "python",
   "pygments_lexer": "ipython3",
   "version": "3.12.0"
  }
 },
 "nbformat": 4,
 "nbformat_minor": 2
}
